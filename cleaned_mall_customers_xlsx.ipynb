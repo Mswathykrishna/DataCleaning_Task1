{
  "nbformat": 4,
  "nbformat_minor": 0,
  "metadata": {
    "colab": {
      "provenance": []
    },
    "kernelspec": {
      "name": "python3",
      "display_name": "Python 3"
    },
    "language_info": {
      "name": "python"
    }
  },
  "cells": [
    {
      "cell_type": "code",
      "source": [
        "import pandas as pd\n",
        "\n",
        "# Read the Excel file (uploaded)\n",
        "df = pd.read_excel(\"Mall_Customers.csv.xlsx\")\n",
        "\n",
        "print(\"Before Cleaning:\\n\", df.head())\n",
        "print(\"\\nColumns:\\n\", df.columns)\n"
      ],
      "metadata": {
        "id": "hceEnktW9BHQ"
      },
      "execution_count": null,
      "outputs": []
    },
    {
      "cell_type": "code",
      "source": [
        "import pandas as pd\n",
        "df = pd.read_excel(\"Mall_Customers.csv.xlsx\")\n",
        "df = df.drop_duplicates()\n",
        "for col in df.columns:\n",
        "    if df[col].dtype == 'O':  # object = text column\n",
        "        df[col].fillna(df[col].mode()[0], inplace=True)\n",
        "    else:\n",
        "        df[col].fillna(df[col].mean(), inplace=True)\n",
        "if 'Gender' in df.columns:\n",
        "    df['Gender'] = df['Gender'].str.strip().str.capitalize()\n",
        "df.columns = df.columns.str.strip().str.lower().str.replace(\" \", \"_\").str.replace(r\"[\\(\\)-]\", \"\", regex=True)\n",
        "if 'age' in df.columns:\n",
        "    df['age'] = df['age'].astype(int)\n",
        "df.to_excel(\"cleaned_mall_customers.xlsx\", index=False)\n",
        "\n",
        "print(\"✅ Cleaning Done! Cleaned file saved as 'cleaned_mall_customers.xlsx'\")\n",
        "print(\"\\nPreview after cleaning:\\n\", df.head())\n"
      ],
      "metadata": {
        "colab": {
          "base_uri": "https://localhost:8080/"
        },
        "id": "8vUvK1rR90Tw",
        "outputId": "e3037f26-875d-4b58-99ad-b8b321560bf5"
      },
      "execution_count": 5,
      "outputs": [
        {
          "output_type": "stream",
          "name": "stdout",
          "text": [
            "✅ Cleaning Done! Cleaned file saved as 'cleaned_mall_customers.xlsx'\n",
            "\n",
            "Preview after cleaning:\n",
            "    customerid  gender  age  annual_income_k$  spending_score_1100\n",
            "0           1    Male   19                15                   39\n",
            "1           2    Male   21                15                   81\n",
            "2           3  Female   20                16                    6\n",
            "3           4  Female   23                16                   77\n",
            "4           5  Female   31                17                   40\n"
          ]
        },
        {
          "output_type": "stream",
          "name": "stderr",
          "text": [
            "/tmp/ipython-input-3625192406.py:8: FutureWarning: A value is trying to be set on a copy of a DataFrame or Series through chained assignment using an inplace method.\n",
            "The behavior will change in pandas 3.0. This inplace method will never work because the intermediate object on which we are setting values always behaves as a copy.\n",
            "\n",
            "For example, when doing 'df[col].method(value, inplace=True)', try using 'df.method({col: value}, inplace=True)' or df[col] = df[col].method(value) instead, to perform the operation inplace on the original object.\n",
            "\n",
            "\n",
            "  df[col].fillna(df[col].mean(), inplace=True)\n",
            "/tmp/ipython-input-3625192406.py:6: FutureWarning: A value is trying to be set on a copy of a DataFrame or Series through chained assignment using an inplace method.\n",
            "The behavior will change in pandas 3.0. This inplace method will never work because the intermediate object on which we are setting values always behaves as a copy.\n",
            "\n",
            "For example, when doing 'df[col].method(value, inplace=True)', try using 'df.method({col: value}, inplace=True)' or df[col] = df[col].method(value) instead, to perform the operation inplace on the original object.\n",
            "\n",
            "\n",
            "  df[col].fillna(df[col].mode()[0], inplace=True)\n"
          ]
        }
      ]
    },
    {
      "cell_type": "markdown",
      "source": [],
      "metadata": {
        "id": "m7XEsfyv9xZ4"
      }
    }
  ]
}